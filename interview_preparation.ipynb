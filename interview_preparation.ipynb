{
  "nbformat": 4,
  "nbformat_minor": 0,
  "metadata": {
    "colab": {
      "provenance": [],
      "authorship_tag": "ABX9TyOrCazqqkerwivWLcOQEa5t",
      "include_colab_link": true
    },
    "kernelspec": {
      "name": "python3",
      "display_name": "Python 3"
    },
    "language_info": {
      "name": "python"
    }
  },
  "cells": [
    {
      "cell_type": "markdown",
      "metadata": {
        "id": "view-in-github",
        "colab_type": "text"
      },
      "source": [
        "<a href=\"https://colab.research.google.com/github/SAMMOSES26/interview_practise/blob/main/interview_preparation.ipynb\" target=\"_parent\"><img src=\"https://colab.research.google.com/assets/colab-badge.svg\" alt=\"Open In Colab\"/></a>"
      ]
    },
    {
      "cell_type": "markdown",
      "source": [
        "# **what is python ?**\n",
        "\n",
        "\n"
      ],
      "metadata": {
        "id": "8G-UAZo0sNlB"
      }
    },
    {
      "cell_type": "markdown",
      "source": [
        "* Python is a high-level programming language\n",
        "* It was first released in 1991 by Guido van Rossum , it is known for its simplicity, readability . It is widely used in a variety of applications such as machine learning , web development and more. \n",
        "\n",
        "* Python's syntax is designed to be easy and clear\n",
        "* its using indentation to define code blocks. \n",
        "* It was first released in 1991 by Guido van Rossum and has since become one of the most popular programming languages in the world. "
      ],
      "metadata": {
        "id": "KgF2e8GrpMpi"
      }
    },
    {
      "cell_type": "markdown",
      "source": [
        " * The syntax of Python is designed to be easily understandable for both beginners and experienced programmers. Here are some important Python syntax rules that you should be familiar with:"
      ],
      "metadata": {
        "id": "Re4WEoUi5x61"
      }
    },
    {
      "cell_type": "markdown",
      "source": [
        "1. Indentation: Python uses whitespace to define blocks of code. This means that indentation is critical to the structure of your code. \n",
        "\n",
        "Indentation is the practice of starting a line of text a few spaces to the right of the margin. The main goal of indentation is to visually organize code, making it easier to read and understand.\n",
        "\n",
        "In programming, indentation is commonly used to indicate the structure of the code, such as the start and end of a loop or a conditional statement. Indenting code also helps to identify blocks of code that are nested within other blocks, such as a function definition within a class definition.\n",
        "\n",
        "Indentation is not required for the code to function correctly, but it is considered a best practice in many programming languages. Good indentation can improve the readability and maintainability of code, making it easier for other developers to understand and modify.\n",
        "\n",
        "For example, the following code creates a loop that will print the numbers from 0 to 4:"
      ],
      "metadata": {
        "id": "ZCE3n4K656h1"
      }
    },
    {
      "cell_type": "code",
      "source": [
        "for i in range(5):\n",
        "    print(i)\n"
      ],
      "metadata": {
        "id": "FDMg937v59Xi",
        "colab": {
          "base_uri": "https://localhost:8080/"
        },
        "outputId": "6c8f9f52-3645-4d2d-d4c8-bf50ddcc1f95"
      },
      "execution_count": 1,
      "outputs": [
        {
          "output_type": "stream",
          "name": "stdout",
          "text": [
            "0\n",
            "1\n",
            "2\n",
            "3\n",
            "4\n"
          ]
        }
      ]
    },
    {
      "cell_type": "markdown",
      "source": [
        "# **Variables:**\n",
        "\n",
        "\n"
      ],
      "metadata": {
        "id": "8DEfE0uk58Ex"
      }
    },
    {
      "cell_type": "markdown",
      "source": [
        "* variable is a container it can store anything like string,integer,float,complex numbers,alpha numeric numbers..etc\n",
        "\n",
        "* In Python, you don't need to declare the data type of a variable. You can simply assign a value to a variable using the equal sign, and Python will figure out the data type based on the value assigned. For example:"
      ],
      "metadata": {
        "id": "ka9LHSRVpJSQ"
      }
    },
    {
      "cell_type": "code",
      "source": [
        "A=50 \n",
        "A=3.14\n",
        "A='Guvi'\n",
        "A=[1,2,3,4,5]\n",
        "\n",
        "1sam=1  #should not start with the numbers\n",
        "user_2=20 # instead of start with the numbers write at the end\n",
        "\n",
        "list=sam # should not use keyword as variable\n",
        "List=50 # instead of list use List (case sensitive)\n",
        "\n",
        "user_input=200\n",
        "UserInput=200\n"
      ],
      "metadata": {
        "id": "6q8OnGrt6CP1"
      },
      "execution_count": null,
      "outputs": []
    },
    {
      "cell_type": "code",
      "source": [
        " # if we use same variable name for different values multiple times in coding it will take last initialised value as input\n",
        "a=10\n",
        "a=20\n",
        "print(a+a)"
      ],
      "metadata": {
        "colab": {
          "base_uri": "https://localhost:8080/"
        },
        "id": "hf63TCp8tODv",
        "outputId": "1073d2c3-0b98-4e5f-f4d1-cf69e3083124"
      },
      "execution_count": null,
      "outputs": [
        {
          "output_type": "stream",
          "name": "stdout",
          "text": [
            "40\n"
          ]
        }
      ]
    },
    {
      "cell_type": "code",
      "source": [
        "# so use different variable names\n",
        "A=30       \n",
        "B=50\n",
        "print(A+B)"
      ],
      "metadata": {
        "colab": {
          "base_uri": "https://localhost:8080/"
        },
        "id": "Se7uRCxrtMWn",
        "outputId": "7edb0b91-1e5d-48e8-8a38-bf40759bd483"
      },
      "execution_count": null,
      "outputs": [
        {
          "output_type": "stream",
          "name": "stdout",
          "text": [
            "80\n"
          ]
        }
      ]
    },
    {
      "cell_type": "code",
      "source": [
        "# or use case sensitive letters\n",
        "a=10\n",
        "A=20\n",
        "\n",
        "print(a+A)\n",
        "\n",
        "# in python capital letters and small letters are different to him so we called it as case sensitive"
      ],
      "metadata": {
        "colab": {
          "base_uri": "https://localhost:8080/"
        },
        "id": "aPH5NG2bt1xO",
        "outputId": "19798fa7-ec66-4bd5-f1b5-317e321ba360"
      },
      "execution_count": null,
      "outputs": [
        {
          "output_type": "stream",
          "name": "stdout",
          "text": [
            "30\n"
          ]
        }
      ]
    },
    {
      "cell_type": "markdown",
      "source": [
        "# **what is keyword in python or any programing language?**"
      ],
      "metadata": {
        "id": "6YkC5ArPsMEo"
      }
    },
    {
      "cell_type": "markdown",
      "source": [
        "In Python, a keyword is a reserved word that has a specific meaning and purpose in the programming language. These keywords cannot be used as variable names or any other identifier names. They are used to define the syntax and structure of the language itself.\n",
        "\n",
        "Some examples of keywords in Python are:\n",
        "\n",
        "* if: used to start a conditional statement\n",
        "* else: used to specify an alternate path in a conditional statement\n",
        "* for: used to create a loop that iterates over a sequence\n",
        "* while: used to create a loop that executes while a certain condition is true\n",
        "* def: used to define a function\n",
        "* class: used to define a class\n",
        "* Using a keyword as a variable name or any other identifier name in Python will result in a syntax error."
      ],
      "metadata": {
        "id": "zS0RoEJ4sUfd"
      }
    },
    {
      "cell_type": "markdown",
      "source": [
        "# **data types:**"
      ],
      "metadata": {
        "id": "vdm6MGS2pjSw"
      }
    },
    {
      "cell_type": "markdown",
      "source": [
        "In Python, data types are used to define the type of value that a variable or expression can hold. There are several built-in data types in Python, including:\n",
        "\n",
        "* **int**-----> numeric values\n",
        "* **string**-->it can hold both alpha values and alpha numeric values\n",
        "* **float**--->decimal point numbers\n",
        "* **boolean**-> True or False"
      ],
      "metadata": {
        "id": "28PwU5k7pnST"
      }
    },
    {
      "cell_type": "code",
      "source": [
        "I=50    #Int   Mobile, pincode, AADar,Bank Acc No, Age, Customer Id\n",
        "I=-50   #Int\n",
        "\n",
        "F=3.14  #Float   Height, Weight, Temp, lit, Percentage, distance,Pressure, Price, Speed, currency conversion \n",
        "F=-3.14 #Float\n",
        "\n",
        "S=''\n",
        "S='50'\n",
        "S=\"50\"\n",
        "S='guvi'  #string\n",
        "S='!@#$%^&*()_+' #string is a group of sequence of character , Name, MailId, Address, Ip address, PAN,password,IFSC \n",
        "\n",
        "B=True  #Bool  yes Start pass open   on   up   beginning  head\n",
        "B=False #bool  No  Stop  fail close  off  down  end      tail "
      ],
      "metadata": {
        "id": "4XLSNUtnrV5n"
      },
      "execution_count": null,
      "outputs": []
    },
    {
      "cell_type": "code",
      "source": [
        "dir(str)"
      ],
      "metadata": {
        "colab": {
          "base_uri": "https://localhost:8080/"
        },
        "id": "HPhhjUErX5u_",
        "outputId": "eb6d78c6-f958-4903-e9dc-ccf4d9ac2b2c"
      },
      "execution_count": 4,
      "outputs": [
        {
          "output_type": "execute_result",
          "data": {
            "text/plain": [
              "['__add__',\n",
              " '__class__',\n",
              " '__contains__',\n",
              " '__delattr__',\n",
              " '__dir__',\n",
              " '__doc__',\n",
              " '__eq__',\n",
              " '__format__',\n",
              " '__ge__',\n",
              " '__getattribute__',\n",
              " '__getitem__',\n",
              " '__getnewargs__',\n",
              " '__gt__',\n",
              " '__hash__',\n",
              " '__init__',\n",
              " '__init_subclass__',\n",
              " '__iter__',\n",
              " '__le__',\n",
              " '__len__',\n",
              " '__lt__',\n",
              " '__mod__',\n",
              " '__mul__',\n",
              " '__ne__',\n",
              " '__new__',\n",
              " '__reduce__',\n",
              " '__reduce_ex__',\n",
              " '__repr__',\n",
              " '__rmod__',\n",
              " '__rmul__',\n",
              " '__setattr__',\n",
              " '__sizeof__',\n",
              " '__str__',\n",
              " '__subclasshook__',\n",
              " 'capitalize',\n",
              " 'casefold',\n",
              " 'center',\n",
              " 'count',\n",
              " 'encode',\n",
              " 'endswith',\n",
              " 'expandtabs',\n",
              " 'find',\n",
              " 'format',\n",
              " 'format_map',\n",
              " 'index',\n",
              " 'isalnum',\n",
              " 'isalpha',\n",
              " 'isascii',\n",
              " 'isdecimal',\n",
              " 'isdigit',\n",
              " 'isidentifier',\n",
              " 'islower',\n",
              " 'isnumeric',\n",
              " 'isprintable',\n",
              " 'isspace',\n",
              " 'istitle',\n",
              " 'isupper',\n",
              " 'join',\n",
              " 'ljust',\n",
              " 'lower',\n",
              " 'lstrip',\n",
              " 'maketrans',\n",
              " 'partition',\n",
              " 'removeprefix',\n",
              " 'removesuffix',\n",
              " 'replace',\n",
              " 'rfind',\n",
              " 'rindex',\n",
              " 'rjust',\n",
              " 'rpartition',\n",
              " 'rsplit',\n",
              " 'rstrip',\n",
              " 'split',\n",
              " 'splitlines',\n",
              " 'startswith',\n",
              " 'strip',\n",
              " 'swapcase',\n",
              " 'title',\n",
              " 'translate',\n",
              " 'upper',\n",
              " 'zfill']"
            ]
          },
          "metadata": {},
          "execution_count": 4
        }
      ]
    },
    {
      "cell_type": "markdown",
      "source": [
        "# **Comments:**"
      ],
      "metadata": {
        "id": "wO80Pp8RpLt1"
      }
    },
    {
      "cell_type": "markdown",
      "source": [
        " You can add comments to your code using the hash symbol (#). Comments are ignored by Python and are used to explain what the code is doing. For example:"
      ],
      "metadata": {
        "id": "_a2qy_PR6D74"
      }
    },
    {
      "cell_type": "code",
      "source": [
        "# This is a comment\n",
        "print(\"Hello, world!\")\n"
      ],
      "metadata": {
        "id": "T_aNCZN_6IJ6"
      },
      "execution_count": null,
      "outputs": []
    },
    {
      "cell_type": "markdown",
      "source": [
        "# **data structure :**\n"
      ],
      "metadata": {
        "id": "D0U_NBUAyOXF"
      }
    },
    {
      "cell_type": "markdown",
      "source": [
        "what is datastructure?why we need that?\n",
        "\n",
        "* to hold multiple data's"
      ],
      "metadata": {
        "id": "QA6JydmW6iqd"
      }
    },
    {
      "cell_type": "markdown",
      "source": [
        "why we need multiple datastructure her?\n",
        "\n",
        "* each have its own unique feature,we use that feature according to our need "
      ],
      "metadata": {
        "id": "wNs-K8fU6uh8"
      }
    },
    {
      "cell_type": "markdown",
      "source": [
        "* list\n",
        "* tuple\n",
        "* set\n",
        "* dictionary"
      ],
      "metadata": {
        "id": "TbO85zj4yVlZ"
      }
    },
    {
      "cell_type": "markdown",
      "source": [
        "# **5. Conditional statements:**\n",
        "* A conditional statement in Python is a programming structure that allows you to perform different actions based on whether a specific condition is true or false. In Python, the most common conditional statement is\n",
        "* if, elif, and else keywords to create conditional statements. The body of the conditional statement is indented. For example:"
      ],
      "metadata": {
        "id": "AV_yDHjg6Sf-"
      }
    },
    {
      "cell_type": "code",
      "source": [
        "x = 10\n",
        "if x > 5:\n",
        "    print(\"x is greater than 5\")\n",
        "elif x == 5:\n",
        "    print(\"x is equal to 5\")\n",
        "else:\n",
        "    print(\"x is less than 5\")\n"
      ],
      "metadata": {
        "id": "NZyctRuN6VoS"
      },
      "execution_count": null,
      "outputs": []
    },
    {
      "cell_type": "markdown",
      "source": [
        "These are just a few examples of Python syntax. To become proficient in Python, you will need to practice writing code and familiarize yourself with the language's syntax rules."
      ],
      "metadata": {
        "id": "qXQ2hCY_6b2A"
      }
    },
    {
      "cell_type": "markdown",
      "source": [
        "# **loops concept:**\n",
        "\n",
        "\n",
        "\n"
      ],
      "metadata": {
        "id": "EI6sC8Mump15"
      }
    },
    {
      "cell_type": "markdown",
      "source": [
        "* In Python, there are two types of loops: \"for\" loops and \"while\" loops.\n",
        "\n",
        "**For loops:**\n",
        "A for loop is used for iterating over a sequence (that is either a list, a tuple, a dictionary, a set, or a string). The basic syntax for a for loop is:"
      ],
      "metadata": {
        "id": "XmeefwdAooAv"
      }
    },
    {
      "cell_type": "code",
      "source": [
        "# Using a for loop to iterate over a list\n",
        "numbers = [1, 2, 3, 4, 5]\n",
        "for num in numbers:\n",
        "    print(num)\n"
      ],
      "metadata": {
        "colab": {
          "base_uri": "https://localhost:8080/"
        },
        "id": "cWInZUzNm1bx",
        "outputId": "e5f8121b-d989-4a5a-82b5-941287c8529a"
      },
      "execution_count": null,
      "outputs": [
        {
          "output_type": "stream",
          "name": "stdout",
          "text": [
            "1\n",
            "2\n",
            "3\n",
            "4\n",
            "5\n"
          ]
        }
      ]
    },
    {
      "cell_type": "markdown",
      "source": [
        "**While loops:**\n",
        "A while loop is used to repeat a block of code until a specific condition is met. The basic syntax for a while loop is:"
      ],
      "metadata": {
        "id": "GzSMBtBfm15Q"
      }
    },
    {
      "cell_type": "code",
      "source": [
        "# Using a while loop to iterate until a condition is met\n",
        "num = 1\n",
        "while num <= 5:\n",
        "    print(num)\n",
        "    num += 1\n"
      ],
      "metadata": {
        "colab": {
          "base_uri": "https://localhost:8080/"
        },
        "id": "1Doc9wVinauq",
        "outputId": "6134f907-3d1b-4df3-ae65-55a37850735b"
      },
      "execution_count": null,
      "outputs": [
        {
          "output_type": "stream",
          "name": "stdout",
          "text": [
            "1\n",
            "2\n",
            "3\n",
            "4\n",
            "5\n"
          ]
        }
      ]
    },
    {
      "cell_type": "markdown",
      "source": [
        "**The main difference between a for loop and a while loop in Python is the way they iterate. ?**"
      ],
      "metadata": {
        "id": "cK719UJznmbw"
      }
    },
    {
      "cell_type": "markdown",
      "source": [
        "* A **for loop** is used for iterating over a sequence of values such as a list, tuple, set, string, or dictionary. It loops over each item in the sequence, executes a block of code for each item, and then exits the loop after all the items in the sequence have been processed\n",
        "\n",
        "* A **while loop**, on the other hand, is used for iterating until a certain condition is met. It executes a block of code repeatedly as long as the condition is true, and then exits the loop when the condition becomes false. For example:"
      ],
      "metadata": {
        "id": "EpX4eq8Hnplw"
      }
    },
    {
      "cell_type": "markdown",
      "source": [
        "**the things we do in for loop can done in while loop also ?**"
      ],
      "metadata": {
        "id": "CR5lwre2oWjL"
      }
    },
    {
      "cell_type": "markdown",
      "source": [
        "* Yes, the things that we do in a for loop can also be done in a while loop. In fact, any task that can be accomplished with a for loop can also be accomplished with a while loop and vice versa. However, the two types of loops have different use cases and one may be more appropriate than the other depending on the specific situation.\n",
        "\n",
        "* In general, for loops are used when you know the number of times you need to loop over a sequence, while while loops are used when you don't know the exact number of times you need to loop, but you do know the condition that will stop the loop."
      ],
      "metadata": {
        "id": "hNofLolfoX75"
      }
    },
    {
      "cell_type": "markdown",
      "source": [
        "# **4. Functions:**"
      ],
      "metadata": {
        "id": "GgyBXNus6M9c"
      }
    },
    {
      "cell_type": "markdown",
      "source": [
        " Functions in Python are defined using the def keyword, followed by the function name and the parameters in parentheses. The body of the function is indented. For example:"
      ],
      "metadata": {
        "id": "xCZkEwsxpW4A"
      }
    },
    {
      "cell_type": "code",
      "source": [
        "def greet(name):\n",
        "    print(\"Hello, \" + name + \"!\")\n"
      ],
      "metadata": {
        "id": "IbhLqBll6QyH"
      },
      "execution_count": null,
      "outputs": []
    },
    {
      "cell_type": "markdown",
      "source": [
        "# **here are five important points why learning Python could be beneficial:**\n",
        "\n",
        "\n",
        "\n",
        "\n",
        "\n",
        "\n"
      ],
      "metadata": {
        "id": "WBQ_W_umrlDB"
      }
    },
    {
      "cell_type": "markdown",
      "source": [
        "1. Versatility: Python is a versatile language that can be used for a wide range of applications. From web development and data analysis to scientific computing and machine learning, Python is used in a variety of fields.\n",
        "\n",
        "2. Easy to learn: Python has a simple and easy-to-learn syntax that makes it an ideal language for beginners. Its syntax is easy to read and write, which can make learning programming more accessible.\n",
        "\n",
        "3. Large community and ecosystem: Python has a large and active community of developers who contribute to the language and its ecosystem of libraries and tools. This community has helped make Python one of the most versatile and powerful programming languages available today.\n",
        "\n",
        "4. High demand for Python skills: Python is one of the most in-demand programming languages in the job market, particularly in fields such as data science, machine learning, and web development. Learning Python can help you stand out in a competitive job market and increase your job opportunities.\n",
        "\n",
        "5. Flexibility: Python can be used for both small and large projects. It can be used to build simple scripts or full-scale applications. It also integrates well with other languages and tools, making it a valuable language to learn for developers who work in a variety of environments.\n"
      ],
      "metadata": {
        "id": "6QISBzCtpQAa"
      }
    },
    {
      "cell_type": "markdown",
      "source": [
        "# **indendation**\n",
        "\n"
      ],
      "metadata": {
        "id": "TtweGGTvtYzL"
      }
    },
    {
      "cell_type": "markdown",
      "source": [
        "* In Python, indentation is the whitespace that appears at the beginning of a line of code and is used to define the structure and hierarchy of the code. \n",
        "* use of indentation also improves code readability and maintainability. By using indentation, you can make your code easier to understand and modify for yourself and other developers who may work on the code in the future."
      ],
      "metadata": {
        "id": "JrY1E3h6pUbS"
      }
    },
    {
      "cell_type": "markdown",
      "source": [
        "# **what is data types in python ?**\n",
        "\n"
      ],
      "metadata": {
        "id": "nk1VDnlv0Ipl"
      }
    },
    {
      "cell_type": "markdown",
      "source": [
        "* In Python, data types refer to the different kinds of values that can be stored and manipulated in a program. Python has several built-in data types, including:\n",
        "\n",
        "1. Integers (int): whole numbers, such as 1, 2, 3, etc.\n",
        "2. Floating-point numbers (float): numbers with a decimal point, such as 3.14, 2.0, etc.\n",
        "3. Booleans (bool): values that represent True or False.\n",
        "4. Strings (str): sequences of characters, such as \"hello\" or \"world\".\n",
        "5. Lists: ordered sequences of values, which can be of any data type.\n",
        "6. Tuples: ordered sequences of values, which are similar to lists, but are immutable (cannot be modified).\n",
        "7. Sets: unordered collections of unique values, which can be used for tasks such as removing duplicates or checking for membership.\n",
        "8. Dictionaries: unordered collections of key-value pairs, which can be used to store and retrieve data based on a key.\n",
        "9. Complex Numbers: numbers with a real and imaginary part, such as 3 + 4j.\n",
        "\n",
        "\n",
        "Knowing and understanding the different data types in Python is important for working with data in a program and performing operations on them."
      ],
      "metadata": {
        "id": "4B6iXRhkpJFi"
      }
    },
    {
      "cell_type": "markdown",
      "source": [
        "# **What is the difference between a list and a tuple in Python?**\n",
        "\n"
      ],
      "metadata": {
        "id": "VlP0THF50F6d"
      }
    },
    {
      "cell_type": "markdown",
      "source": [
        "* Answer: A list and a tuple are both types of sequence data structures in Python. The main difference is that a list is mutable, meaning it can be changed after it is created, while a tuple is immutable, meaning it cannot be changed after it is created. Lists are created using square brackets [], while tuples are created using parentheses ()."
      ],
      "metadata": {
        "id": "wVUrns44pFWp"
      }
    },
    {
      "cell_type": "markdown",
      "source": [
        "# **what is data structure?**\n",
        "\n"
      ],
      "metadata": {
        "id": "rNryu8cu3k7G"
      }
    },
    {
      "cell_type": "markdown",
      "source": [
        "* In computer science and programming, a data structure is a way of organizing and storing data in a computer so that it can be accessed and manipulated efficiently\n",
        "\n",
        "* There are many different types of data structures, each with their own strengths and weaknesses depending on the specific use case. Some common data structures in programming include list,tuple,set,,dictionary ,arrays,stacks, queues, trees, and graphs.\n",
        "\n",
        "* Choosing the appropriate data structure for a particular task can have a significant impact on the performance and efficiency of a program. Therefore, understanding data structures and their properties is an important part of programming and computer science."
      ],
      "metadata": {
        "id": "qXNsv6I-pCqn"
      }
    },
    {
      "cell_type": "markdown",
      "source": [
        "# **list tuple set dictionary are data structure or data types?**\n",
        "\n",
        "\n",
        "\n",
        "\n"
      ],
      "metadata": {
        "id": "VI1ntS_a3_I8"
      }
    },
    {
      "cell_type": "markdown",
      "source": [
        "* In Python, list, tuple, set, and dictionary are both data structures and data types. They are data structures because they are ways of organizing and storing data in a computer so that it can be accessed and manipulated efficiently. And they are data types because they define the type of data that can be stored in a particular variable or object.\n",
        "\n",
        "* For example, a list is a data structure that can store an ordered collection of items of any data type, such as integers, strings, or even other lists. It is also a data type in Python, which means that a variable declared as a list can only store values that are of the list data type.\n",
        "\n",
        "* Similarly, a tuple is a data structure that can store an ordered collection of items, just like a list, but tuples are immutable, which means their contents cannot be changed after creation. A set is an unordered collection of unique items, and a dictionary is a collection of key-value pairs.\n",
        "\n",
        "* Understanding these data structures and their properties is important for efficient data manipulation and programming in Python.\n"
      ],
      "metadata": {
        "id": "T28E5-W6o_lA"
      }
    },
    {
      "cell_type": "markdown",
      "source": [
        "# **tell me about conditional statements**\n",
        "\n"
      ],
      "metadata": {
        "id": "kcJ5pTcs4mPR"
      }
    },
    {
      "cell_type": "markdown",
      "source": [
        "* In Python, conditional statements allow you to control the flow of your program based on certain conditions. They allow you to execute specific blocks of code only when certain conditions are met. There are two main types of conditional statements in Python: **if statements and if-else statements.**\n",
        "\n",
        "An if statement is used to execute a block of code only if a particular condition is true. For example:"
      ],
      "metadata": {
        "id": "JyfIguBtpZpj"
      }
    },
    {
      "cell_type": "code",
      "source": [
        "x = 10\n",
        "if x > 5:\n",
        "    print(\"x is greater than 5\")\n"
      ],
      "metadata": {
        "id": "g44ERqX94xxI"
      },
      "execution_count": null,
      "outputs": []
    },
    {
      "cell_type": "markdown",
      "source": [
        "In this example, the code within the if block will only execute if the condition x > 5 is true. If the condition is false, the code within the if block will be skipped.\n",
        "\n",
        "An if-else statement is used to execute one block of code if a condition is true, and a different block of code if the condition is false. For example:"
      ],
      "metadata": {
        "id": "Hbi4vQqS4zJy"
      }
    },
    {
      "cell_type": "code",
      "source": [
        "x = 10\n",
        "if x > 5:\n",
        "    print(\"x is greater than 5\")\n",
        "else:\n",
        "    print(\"x is less than or equal to 5\")\n"
      ],
      "metadata": {
        "id": "hC_C-rWW459U"
      },
      "execution_count": null,
      "outputs": []
    },
    {
      "cell_type": "markdown",
      "source": [
        "In this example, the first block of code will execute if x > 5, and the second block of code will execute if x <= 5.\n",
        "\n",
        "Python also supports nested if statements and if-elif-else statements, which allow you to test multiple conditions and execute different blocks of code based on those conditions.\n",
        "\n",
        "**Conditional statements are an important part of programming in Python and are used extensively in many programs to control program flow and behavior based on certain conditions or user input.**"
      ],
      "metadata": {
        "id": "-w0WfSy85Y32"
      }
    },
    {
      "cell_type": "markdown",
      "source": [
        "# **Built-in functions in Python**\n",
        "\n"
      ],
      "metadata": {
        "id": "NJdPLvZQ6MZE"
      }
    },
    {
      "cell_type": "markdown",
      "source": [
        "Python is a versatile programming language that comes with a wide range of built-in functions that are commonly used in various programming tasks. Here are some of the most common built-in functions in Python:\n",
        "\n",
        "**print()** - used to display output on the screen.\n",
        "\n",
        "**len()** - used to find the length of an object, such as a string, list or tuple.\n",
        "\n",
        "**type()** - used to find the data type of a given object.\n",
        "\n",
        "**int()** - used to convert a given object into an integer.\n",
        "\n",
        "**float()** - used to convert a given object into a floating-point number.\n",
        "\n",
        "**str()**- used to convert a given object into a string.\n",
        "\n",
        "**range()** - used to generate a sequence of numbers.\n",
        "\n",
        "**input()** - used to receive input from the user.\n",
        "\n",
        "**sum()** - used to find the sum of a sequence of numbers.\n",
        "\n",
        "**abs()** - used to find the absolute value of a given number.\n",
        "\n",
        "**max()** - used to find the largest item in a sequence.\n",
        "\n",
        "**min()** - used to find the smallest item in a sequence.\n",
        "\n",
        "**sorted()** - used to sort a sequence in ascending order.\n",
        "\n",
        "**reversed()** - used to reverse the order of items in a sequence.\n",
        "\n",
        "**zip()** - used to combine two or more sequences into a single sequence.\n",
        "\n",
        "**all()** - used to check if all items in a sequence are true.\n",
        "\n",
        "**any()** - used to check if any item in a sequence is true.\n",
        "\n",
        "**chr()** - used to convert an integer into its corresponding character.\n",
        "\n",
        "**ord()** - used to convert a character into its corresponding integer value.\n",
        "\n",
        "**help()** - used to display help information about a given object or function.\n",
        "\n",
        "These are just some of the many built-in functions that are available in Python. They can save a lot of time and effort when developing Python programs."
      ],
      "metadata": {
        "id": "1NZjVwAxozyG"
      }
    },
    {
      "cell_type": "code",
      "source": [],
      "metadata": {
        "id": "-Q3svCp6or6Z"
      },
      "execution_count": null,
      "outputs": []
    },
    {
      "cell_type": "markdown",
      "source": [
        "# **totally how many built in functions in python**\n",
        "\n"
      ],
      "metadata": {
        "id": "xi-3dzYklxUV"
      }
    },
    {
      "cell_type": "markdown",
      "source": [
        "As of the latest version of Python, which is Python 3.10, there are 77 built-in functions available in Python. However, this number may vary depending on the version of Python being used.\n",
        "\n",
        "It's important to note that in addition to the built-in functions, Python also comes with a vast collection of standard library modules that contain additional functions and features for various programming tasks. Additionally, there are many third-party libraries and modules available for Python that can extend its functionality even further."
      ],
      "metadata": {
        "id": "SeV0mSVMo5nh"
      }
    },
    {
      "cell_type": "code",
      "source": [],
      "metadata": {
        "id": "QtHvi2ukoqNX"
      },
      "execution_count": null,
      "outputs": []
    },
    {
      "cell_type": "markdown",
      "source": [
        "# **Strings built-in functions**"
      ],
      "metadata": {
        "id": "-6cvU5OonpSo"
      }
    },
    {
      "cell_type": "code",
      "source": [
        "dir(str)  # command to view built in fuction of string"
      ],
      "metadata": {
        "colab": {
          "base_uri": "https://localhost:8080/"
        },
        "id": "nt01E_7lpweb",
        "outputId": "dbf86225-8a07-4f62-9050-a0e47045c193"
      },
      "execution_count": null,
      "outputs": [
        {
          "output_type": "execute_result",
          "data": {
            "text/plain": [
              "['__add__',\n",
              " '__class__',\n",
              " '__contains__',\n",
              " '__delattr__',\n",
              " '__dir__',\n",
              " '__doc__',\n",
              " '__eq__',\n",
              " '__format__',\n",
              " '__ge__',\n",
              " '__getattribute__',\n",
              " '__getitem__',\n",
              " '__getnewargs__',\n",
              " '__gt__',\n",
              " '__hash__',\n",
              " '__init__',\n",
              " '__init_subclass__',\n",
              " '__iter__',\n",
              " '__le__',\n",
              " '__len__',\n",
              " '__lt__',\n",
              " '__mod__',\n",
              " '__mul__',\n",
              " '__ne__',\n",
              " '__new__',\n",
              " '__reduce__',\n",
              " '__reduce_ex__',\n",
              " '__repr__',\n",
              " '__rmod__',\n",
              " '__rmul__',\n",
              " '__setattr__',\n",
              " '__sizeof__',\n",
              " '__str__',\n",
              " '__subclasshook__',\n",
              " 'capitalize',\n",
              " 'casefold',\n",
              " 'center',\n",
              " 'count',\n",
              " 'encode',\n",
              " 'endswith',\n",
              " 'expandtabs',\n",
              " 'find',\n",
              " 'format',\n",
              " 'format_map',\n",
              " 'index',\n",
              " 'isalnum',\n",
              " 'isalpha',\n",
              " 'isascii',\n",
              " 'isdecimal',\n",
              " 'isdigit',\n",
              " 'isidentifier',\n",
              " 'islower',\n",
              " 'isnumeric',\n",
              " 'isprintable',\n",
              " 'isspace',\n",
              " 'istitle',\n",
              " 'isupper',\n",
              " 'join',\n",
              " 'ljust',\n",
              " 'lower',\n",
              " 'lstrip',\n",
              " 'maketrans',\n",
              " 'partition',\n",
              " 'replace',\n",
              " 'rfind',\n",
              " 'rindex',\n",
              " 'rjust',\n",
              " 'rpartition',\n",
              " 'rsplit',\n",
              " 'rstrip',\n",
              " 'split',\n",
              " 'splitlines',\n",
              " 'startswith',\n",
              " 'strip',\n",
              " 'swapcase',\n",
              " 'title',\n",
              " 'translate',\n",
              " 'upper',\n",
              " 'zfill']"
            ]
          },
          "metadata": {},
          "execution_count": 1
        }
      ]
    },
    {
      "cell_type": "markdown",
      "source": [
        "**len(): This function is used to find the length of a string, which is the number of characters it contains. For example:**"
      ],
      "metadata": {
        "id": "tfv6-6-hn13w"
      }
    },
    {
      "cell_type": "code",
      "source": [
        "my_string = \"Hello, World!\"\n",
        "print(len(my_string))   # Output: 13\n"
      ],
      "metadata": {
        "id": "0_GFaoeynyN3"
      },
      "execution_count": null,
      "outputs": []
    },
    {
      "cell_type": "markdown",
      "source": [
        "**lower(): This function is used to convert all characters in a string to lowercase. For example:**"
      ],
      "metadata": {
        "id": "N8zMeaxQn4qD"
      }
    },
    {
      "cell_type": "code",
      "source": [
        "my_string = \"Hello, World!\"\n",
        "print(my_string.lower())   # Output: \"hello, world!\"\n"
      ],
      "metadata": {
        "id": "pmKzvR17n8Aa"
      },
      "execution_count": null,
      "outputs": []
    },
    {
      "cell_type": "markdown",
      "source": [
        "**upper(): This function is used to convert all characters in a string to uppercase. For example:**"
      ],
      "metadata": {
        "id": "2TiyqErjn_MC"
      }
    },
    {
      "cell_type": "code",
      "source": [
        "my_string = \"Hello, World!\"\n",
        "print(my_string.upper())   # Output: \"HELLO, WORLD!\"\n"
      ],
      "metadata": {
        "id": "qoAj4TVmoGAm"
      },
      "execution_count": null,
      "outputs": []
    },
    {
      "cell_type": "markdown",
      "source": [
        "**strip(): This function is used to remove any leading or trailing whitespace from a string. For example:**"
      ],
      "metadata": {
        "id": "muHEWC0woJsO"
      }
    },
    {
      "cell_type": "code",
      "source": [
        "my_string = \"  Hello, World!  \"\n",
        "print(my_string.strip())   # Output: \"Hello, World!\"\n"
      ],
      "metadata": {
        "id": "vTLReEeaoH56"
      },
      "execution_count": null,
      "outputs": []
    },
    {
      "cell_type": "markdown",
      "source": [
        "**replace(): This function is used to replace all occurrences of a specified substring in a string with another substring. For example**"
      ],
      "metadata": {
        "id": "HWfykR5ToWNP"
      }
    },
    {
      "cell_type": "code",
      "source": [
        "my_string = \"Hello, World!\"\n",
        "print(my_string.replace(\"o\", \"0\"))   # Output: \"Hell0, W0rld!\"\n"
      ],
      "metadata": {
        "id": "U05pinDWoTgW"
      },
      "execution_count": null,
      "outputs": []
    },
    {
      "cell_type": "markdown",
      "source": [
        "**split(): This function is used to split a string into a list of substrings based on a specified delimiter. For example:**"
      ],
      "metadata": {
        "id": "f3F2uwAXoZRb"
      }
    },
    {
      "cell_type": "code",
      "source": [
        "my_string = \"Hello, World!\"\n",
        "print(my_string.split(\", \"))   # Output: [\"Hello\", \"World!\"]\n"
      ],
      "metadata": {
        "id": "YpCVYf4_odJJ"
      },
      "execution_count": null,
      "outputs": []
    },
    {
      "cell_type": "markdown",
      "source": [
        "**join(): This function is used to join a list of strings into a single string using a specified delimiter. For example:**"
      ],
      "metadata": {
        "id": "MqvvRWnJodrh"
      }
    },
    {
      "cell_type": "code",
      "source": [
        "my_list = [\"Hello\", \"World!\"]\n",
        "print(\", \".join(my_list))   # Output: \"Hello, World!\"\n"
      ],
      "metadata": {
        "id": "NF069aoFogNR"
      },
      "execution_count": null,
      "outputs": []
    },
    {
      "cell_type": "code",
      "source": [],
      "metadata": {
        "id": "xyTqJFxhohxe"
      },
      "execution_count": null,
      "outputs": []
    },
    {
      "cell_type": "markdown",
      "source": [
        "# **Build in fuction of list**\n",
        "\n"
      ],
      "metadata": {
        "id": "_npYDjuImpdY"
      }
    },
    {
      "cell_type": "markdown",
      "source": [
        " here is a list of all the built-in functions that can be used with lists in Python:\n",
        "\n",
        "**append():** adds an element to the end of the list\n",
        "\n",
        "**clear():** removes all elements from the list\n",
        "\n",
        "**copy():** returns a shallow copy of the list\n",
        "\n",
        "**count():** returns the number of times a specified element appears in the list\n",
        "\n",
        "**extend():** adds the elements of an iterable to the end of the list\n",
        "\n",
        "**index():** returns the index of the first occurrence of a specified element in the list\n",
        "\n",
        "**insert():** adds an element at a specified position in the list\n",
        "\n",
        "**pop():** removes and returns an element at a specified position in the list\n",
        "\n",
        "**remove():** removes the first occurrence of a specified element from the list\n",
        "\n",
        "**reverse():** reverses the order of elements in the list\n",
        "\n",
        "**sort():** sorts the elements of the list in ascending order (or based on a specified key function)\n",
        "\n",
        "To access these functions, simply call them on a list object followed by parentheses and any necessary arguments"
      ],
      "metadata": {
        "id": "rQyZHwnXpdXH"
      }
    },
    {
      "cell_type": "markdown",
      "source": [
        "# **What is a lambda function in Python?**\n",
        "* Answer: A lambda function is a small, anonymous function in Python that can take any number of arguments, but can only have one expression. Lambda functions are often used to write concise, one-line functions that are only used once. Lambda functions are defined using the keyword 'lambda' followed by the arguments and the expression, separated by a colon."
      ],
      "metadata": {
        "id": "g-7G6U8dz-YO"
      }
    }
  ]
}